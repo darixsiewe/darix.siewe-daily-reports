{
 "cells": [
  {
   "cell_type": "markdown",
   "id": "40fe4d5a",
   "metadata": {},
   "source": [
    "1. Create a function find_max() that accepts two numeric inputs and returns the greater value. Avoid using the built-in max() function."
   ]
  },
  {
   "cell_type": "code",
   "execution_count": 5,
   "id": "e87530a3",
   "metadata": {},
   "outputs": [
    {
     "data": {
      "text/plain": [
       "4"
      ]
     },
     "execution_count": 5,
     "metadata": {},
     "output_type": "execute_result"
    }
   ],
   "source": [
    "def find_max(a: float, b:float)-> float:\n",
    "    return a if a>=b else b\n",
    "\n",
    "find_max(1, 4)"
   ]
  },
  {
   "cell_type": "markdown",
   "id": "6ba0f935",
   "metadata": {},
   "source": [
    "2. Develop a function find_max_of_three() to find the maximum among three given numbers."
   ]
  },
  {
   "cell_type": "code",
   "execution_count": 13,
   "id": "69e01bd8",
   "metadata": {},
   "outputs": [
    {
     "data": {
      "text/plain": [
       "8"
      ]
     },
     "execution_count": 13,
     "metadata": {},
     "output_type": "execute_result"
    }
   ],
   "source": [
    "def find_max_of_three(a: float, b: float, c: float)-> float:\n",
    "    return find_max(find_max(a,b), find_max(b,c))\n",
    "find_max_of_three(-1, -2, 8)"
   ]
  },
  {
   "cell_type": "markdown",
   "id": "7ddaed0e",
   "metadata": {},
   "source": [
    "3. Write a function to manually calculate the length of a given list or string without using len()"
   ]
  },
  {
   "cell_type": "code",
   "execution_count": 9,
   "id": "a208c167",
   "metadata": {},
   "outputs": [
    {
     "name": "stdout",
     "output_type": "stream",
     "text": [
      "10 4\n"
     ]
    }
   ],
   "source": [
    "def man_len(a) -> int:\n",
    "    i=0\n",
    "    for _ in a:\n",
    "        i+=1\n",
    "    return i\n",
    "\n",
    "print(man_len(\"12456 7895\"), man_len([1, 4, 4, 5]))"
   ]
  },
  {
   "cell_type": "markdown",
   "id": "b0ec751a",
   "metadata": {},
   "source": [
    "4. Implement a function that checks if a given character is a vowel (a, e, i, o, u)."
   ]
  },
  {
   "cell_type": "code",
   "execution_count": 11,
   "id": "2e5d2de0",
   "metadata": {},
   "outputs": [
    {
     "data": {
      "text/plain": [
       "False"
      ]
     },
     "execution_count": 11,
     "metadata": {},
     "output_type": "execute_result"
    }
   ],
   "source": [
    "def check_vowel(a: str)-> bool:\n",
    "    return a in \"aeiou\"\n",
    "\n",
    "check_vowel(\"y\")"
   ]
  },
  {
   "cell_type": "markdown",
   "id": "3345f32d",
   "metadata": {},
   "source": [
    "5. Write a function encode() that converts a string into “rövarspråket” (robber’s language) by doubling consonants and placing “o” in between, e.g., “hello” -> “hohelollolo”."
   ]
  },
  {
   "cell_type": "code",
   "execution_count": 16,
   "id": "b2bce8ef",
   "metadata": {},
   "outputs": [
    {
     "data": {
      "text/plain": [
       "'hohelollolo'"
      ]
     },
     "execution_count": 16,
     "metadata": {},
     "output_type": "execute_result"
    }
   ],
   "source": [
    "def encode(s: str)-> str:\n",
    "    return \"\".join([f\"{i}o{i}\" if not check_vowel(i.lower()) else i for i in s ])\n",
    "encode(\"hello\")"
   ]
  },
  {
   "cell_type": "markdown",
   "id": "2e1576d3",
   "metadata": {},
   "source": [
    "6. Create sum_elements() and product_elements() functions to sum and multiply all elements in a list, respectively."
   ]
  },
  {
   "cell_type": "code",
   "execution_count": 17,
   "id": "1d08c631",
   "metadata": {},
   "outputs": [
    {
     "name": "stdout",
     "output_type": "stream",
     "text": [
      "5 4\n"
     ]
    }
   ],
   "source": [
    "def sum_elements(l):\n",
    "    s = 0\n",
    "    for i in l:\n",
    "        s+=i\n",
    "    return s\n",
    "def product_elements(l):\n",
    "    p = 1\n",
    "    for i in l:\n",
    "        p*=i\n",
    "    return p\n",
    "print(sum_elements([1, 2, 2]), product_elements([1, 2, 2]))"
   ]
  },
  {
   "cell_type": "markdown",
   "id": "4fd2b563",
   "metadata": {},
   "source": [
    "7. Define a function reverse_string() to reverse the characters in a given string."
   ]
  },
  {
   "cell_type": "code",
   "execution_count": 18,
   "id": "dcf7adde",
   "metadata": {},
   "outputs": [
    {
     "data": {
      "text/plain": [
       "'321'"
      ]
     },
     "execution_count": 18,
     "metadata": {},
     "output_type": "execute_result"
    }
   ],
   "source": [
    "def reverse_string(s:str)-> str:\n",
    "    return s[::-1]\n",
    "\n",
    "reverse_string(\"123\")"
   ]
  },
  {
   "cell_type": "markdown",
   "id": "9a6a7ed5",
   "metadata": {},
   "source": [
    "8. Implement check_palindrome() to verify if a string reads the same forwards and backwards, i.e. is a palindrome."
   ]
  },
  {
   "cell_type": "code",
   "execution_count": 20,
   "id": "a471eb55",
   "metadata": {},
   "outputs": [
    {
     "data": {
      "text/plain": [
       "True"
      ]
     },
     "execution_count": 20,
     "metadata": {},
     "output_type": "execute_result"
    }
   ],
   "source": [
    "def check_palindrome(s: str)-> bool:\n",
    "    return s==reverse_string(s)\n",
    "\n",
    "check_palindrome(\"rir\")"
   ]
  },
  {
   "cell_type": "markdown",
   "id": "857c3371",
   "metadata": {},
   "source": [
    "9. Develop a function check_membership() to determine if a value exists within a list."
   ]
  },
  {
   "cell_type": "code",
   "execution_count": 22,
   "id": "a1b25f70",
   "metadata": {},
   "outputs": [
    {
     "data": {
      "text/plain": [
       "True"
      ]
     },
     "execution_count": 22,
     "metadata": {},
     "output_type": "execute_result"
    }
   ],
   "source": [
    "def check_membership(a, l)-> bool:\n",
    "    return a in l\n",
    "\n",
    "check_membership(\"1\", [\"1\", \"2\", 3, 4, 5])"
   ]
  },
  {
   "cell_type": "markdown",
   "id": "69b086d4",
   "metadata": {},
   "source": [
    "10. Write check_overlap() to identify if two lists share any elements"
   ]
  },
  {
   "cell_type": "code",
   "execution_count": 25,
   "id": "e0ac4e55",
   "metadata": {},
   "outputs": [
    {
     "data": {
      "text/plain": [
       "True"
      ]
     },
     "execution_count": 25,
     "metadata": {},
     "output_type": "execute_result"
    }
   ],
   "source": [
    "def check_overlap(l1, l2)-> bool:\n",
    "    return len(set(l1) & set(l2))>0\n",
    "\n",
    "check_overlap([1, 2, 3, 2, \"4\"], [\"1\", 4, 4, \"2\", \"4\", \"5\"])"
   ]
  },
  {
   "cell_type": "markdown",
   "id": "02a1b7de",
   "metadata": {},
   "source": [
    "11. Implement repeat_char() that generates a string with a specified character repeated n times."
   ]
  },
  {
   "cell_type": "code",
   "execution_count": 32,
   "id": "4df14913",
   "metadata": {},
   "outputs": [
    {
     "data": {
      "text/plain": [
       "'Helloooo wOOOOrld'"
      ]
     },
     "execution_count": 32,
     "metadata": {},
     "output_type": "execute_result"
    }
   ],
   "source": [
    "def repeat_char(s: str, sp: str, n: int)-> str:\n",
    "    \"\"\"\n",
    "    input: s: string, sp: specific character\n",
    "    output: string with specifique charactere repeat n times\n",
    "    \"\"\"\n",
    "    return \"\".join([i*n if i.lower()==sp.lower() else i for i in s])\n",
    "\n",
    "repeat_char(\"Hello wOrld\", \"O\", 4)"
   ]
  },
  {
   "cell_type": "markdown",
   "id": "5e6e1bb3",
   "metadata": {},
   "source": [
    "12. Create a function print_histogram() that takes a list of integers and prints a corresponding histogram."
   ]
  },
  {
   "cell_type": "code",
   "execution_count": null,
   "id": "3316f0f3",
   "metadata": {},
   "outputs": [],
   "source": [
    "def print_histogram(l):\n",
    "    "
   ]
  },
  {
   "cell_type": "markdown",
   "id": "8e43470d",
   "metadata": {},
   "source": [
    "13. Write find_max_in_list() to identify the largest number in a list of arbitrary length."
   ]
  },
  {
   "cell_type": "code",
   "execution_count": 33,
   "id": "713c479a",
   "metadata": {},
   "outputs": [
    {
     "data": {
      "text/plain": [
       "10"
      ]
     },
     "execution_count": 33,
     "metadata": {},
     "output_type": "execute_result"
    }
   ],
   "source": [
    "def find_max_list(l)-> float:\n",
    "    m=l[0]\n",
    "    for n in l:\n",
    "        if n>=m:\n",
    "            m=n\n",
    "    return m\n",
    "find_max_list([1, -1, 0, 4, 10])"
   ]
  },
  {
   "cell_type": "markdown",
   "id": "6a044bba",
   "metadata": {},
   "source": [
    "14. Create a program that maps each word in a list to its length."
   ]
  },
  {
   "cell_type": "code",
   "execution_count": 35,
   "id": "99c5e658",
   "metadata": {},
   "outputs": [
    {
     "data": {
      "text/plain": [
       "[(4, 'word'), (12, 'second words'), (12, 'another word'), (7, 'example')]"
      ]
     },
     "execution_count": 35,
     "metadata": {},
     "output_type": "execute_result"
    }
   ],
   "source": [
    "def maps_lenght(l):\n",
    "    return [(man_len(w), w) for w in l]\n",
    "\n",
    "maps_lenght([\"word\", \"second words\", \"another word\", \"example\"])"
   ]
  },
  {
   "cell_type": "markdown",
   "id": "d77e3f7f",
   "metadata": {},
   "source": [
    "15. Implement longest_word() to find the longest word in a list."
   ]
  },
  {
   "cell_type": "code",
   "execution_count": 41,
   "id": "95dcba88",
   "metadata": {},
   "outputs": [
    {
     "data": {
      "text/plain": [
       "'second words'"
      ]
     },
     "execution_count": 41,
     "metadata": {},
     "output_type": "execute_result"
    }
   ],
   "source": [
    "def longest_word(l)-> str:\n",
    "    return max(maps_lenght(l), key = lambda a: a[0])[1]\n",
    "longest_word([\"word\", \"second words\", \"another word\", \"example\"])"
   ]
  },
  {
   "cell_type": "markdown",
   "id": "cf732c1c",
   "metadata": {},
   "source": [
    "16. Develop filter_words() to return words longer than a specified length from a list."
   ]
  },
  {
   "cell_type": "code",
   "execution_count": 47,
   "id": "622aba1e",
   "metadata": {},
   "outputs": [
    {
     "data": {
      "text/plain": [
       "['second words', 'another word', 'example']"
      ]
     },
     "execution_count": 47,
     "metadata": {},
     "output_type": "execute_result"
    }
   ],
   "source": [
    "def filter_words(l, n):\n",
    "    return [i[1] for i in filter(lambda a: a[0]>=n, maps_lenght(l))]\n",
    "\n",
    "filter_words([\"word\", \"second words\", \"another word\", \"example\"], 5)"
   ]
  },
  {
   "cell_type": "markdown",
   "id": "a3aad20b",
   "metadata": {},
   "source": [
    "17. Enhance the palindrome recognizer to handle phrases, ignoring spaces, punctuation, and case."
   ]
  }
 ],
 "metadata": {
  "kernelspec": {
   "display_name": "Python 3",
   "language": "python",
   "name": "python3"
  },
  "language_info": {
   "codemirror_mode": {
    "name": "ipython",
    "version": 3
   },
   "file_extension": ".py",
   "mimetype": "text/x-python",
   "name": "python",
   "nbconvert_exporter": "python",
   "pygments_lexer": "ipython3",
   "version": "3.9.2"
  }
 },
 "nbformat": 4,
 "nbformat_minor": 5
}
