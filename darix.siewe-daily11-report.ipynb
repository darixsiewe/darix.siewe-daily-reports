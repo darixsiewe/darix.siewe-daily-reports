{
 "cells": [
  {
   "cell_type": "markdown",
   "id": "946dcae8",
   "metadata": {},
   "source": [
    "# Practical_6: Numpy"
   ]
  },
  {
   "cell_type": "markdown",
   "id": "11417498",
   "metadata": {},
   "source": [
    "---\n",
    "\n",
    "### Exercise 1:\n",
    "Create a NumPy array of integers from 1 to 10.\n",
    "\n",
    "```python\n",
    "# Exercise 1\n",
    "```"
   ]
  },
  {
   "cell_type": "code",
   "execution_count": 2,
   "id": "80c61eb1",
   "metadata": {},
   "outputs": [
    {
     "name": "stdout",
     "output_type": "stream",
     "text": [
      "[ 1  2  3  4  5  6  7  8  9 10]\n"
     ]
    }
   ],
   "source": [
    "import numpy as np\n",
    "data = np.arange(1,11)\n",
    "print(data)"
   ]
  },
  {
   "cell_type": "markdown",
   "id": "5f796e13",
   "metadata": {},
   "source": [
    "---\n",
    "\n",
    "### Exercise 2:\n",
    "Create a 3x3 NumPy array filled with zeros.\n",
    "\n",
    "```python\n",
    "# Exercise 2\n",
    "```"
   ]
  },
  {
   "cell_type": "code",
   "execution_count": 3,
   "id": "a3e3ec6f",
   "metadata": {},
   "outputs": [
    {
     "name": "stdout",
     "output_type": "stream",
     "text": [
      "[[0. 0. 0.]\n",
      " [0. 0. 0.]\n",
      " [0. 0. 0.]]\n"
     ]
    }
   ],
   "source": [
    "import numpy as np\n",
    "data = np.zeros((3,3))\n",
    "print(data)"
   ]
  },
  {
   "cell_type": "markdown",
   "id": "caac4211",
   "metadata": {},
   "source": [
    "---\n",
    "\n",
    "### Exercise 3:\n",
    "Create a NumPy array of 10 evenly spaced numbers between 0 and 5.\n",
    "\n",
    "```python\n",
    "# Exercise 3\n",
    "```"
   ]
  },
  {
   "cell_type": "code",
   "execution_count": 4,
   "id": "7ec1ae6a",
   "metadata": {},
   "outputs": [
    {
     "name": "stdout",
     "output_type": "stream",
     "text": [
      "[0.         0.55555556 1.11111111 1.66666667 2.22222222 2.77777778\n",
      " 3.33333333 3.88888889 4.44444444 5.        ]\n"
     ]
    }
   ],
   "source": [
    "import numpy as np\n",
    "data = np.linspace(0,5,10)\n",
    "print(data)"
   ]
  },
  {
   "cell_type": "markdown",
   "id": "854555d1",
   "metadata": {},
   "source": [
    "---\n",
    "\n",
    "### Exercise 4:\n",
    "Create a 5x5 identity matrix using NumPy.\n",
    "\n",
    "```python\n",
    "# Exercise 4\n",
    "```"
   ]
  },
  {
   "cell_type": "code",
   "execution_count": 5,
   "id": "f28701d7",
   "metadata": {},
   "outputs": [
    {
     "name": "stdout",
     "output_type": "stream",
     "text": [
      "[[1. 0. 0. 0. 0.]\n",
      " [0. 1. 0. 0. 0.]\n",
      " [0. 0. 1. 0. 0.]\n",
      " [0. 0. 0. 1. 0.]\n",
      " [0. 0. 0. 0. 1.]]\n"
     ]
    }
   ],
   "source": [
    "data = np.eye(5,5)\n",
    "print(data)"
   ]
  },
  {
   "cell_type": "markdown",
   "id": "d69fc59f",
   "metadata": {},
   "source": [
    "---\n",
    "\n",
    "### Exercise 5:\n",
    "Create a 4x4 matrix with random values between 0 and 1.\n",
    "\n",
    "```python\n",
    "# Exercise 5\n",
    "```"
   ]
  },
  {
   "cell_type": "code",
   "execution_count": 6,
   "id": "3e669e83",
   "metadata": {},
   "outputs": [
    {
     "name": "stdout",
     "output_type": "stream",
     "text": [
      "[[0.16206296 0.62685867 0.25925353 0.21383039]\n",
      " [0.85078246 0.89588403 0.94121659 0.07296067]\n",
      " [0.82553912 0.89791105 0.82871585 0.49415234]\n",
      " [0.54245408 0.40259075 0.84862064 0.60387766]]\n"
     ]
    }
   ],
   "source": [
    "data = np.random.rand(4,4)\n",
    "print(data)"
   ]
  },
  {
   "cell_type": "markdown",
   "id": "2f2a267f",
   "metadata": {},
   "source": [
    "---\n",
    "\n",
    "### Exercise 6:\n",
    "Find the shape of a NumPy array.\n",
    "\n",
    "```python\n",
    "# Exercise 6\n",
    "```"
   ]
  },
  {
   "cell_type": "code",
   "execution_count": 7,
   "id": "1bd8e4ab",
   "metadata": {},
   "outputs": [
    {
     "name": "stdout",
     "output_type": "stream",
     "text": [
      "(3, 3)\n"
     ]
    }
   ],
   "source": [
    "data = np.array([[1,2,3], [1,2,3], [1,2,3]])\n",
    "print(data.shape)"
   ]
  },
  {
   "cell_type": "markdown",
   "id": "3e5e9192",
   "metadata": {},
   "source": [
    "---\n",
    "\n",
    "### Exercise 7:\n",
    "Reshape a 1D NumPy array of 16 elements into a 4x4 matrix.\n",
    "\n",
    "```python\n",
    "# Exercise 7\n",
    "```"
   ]
  },
  {
   "cell_type": "code",
   "execution_count": 8,
   "id": "07f03664",
   "metadata": {},
   "outputs": [
    {
     "name": "stdout",
     "output_type": "stream",
     "text": [
      "[ 0  1  2  3  4  5  6  7  8  9 10 11 12 13 14 15]\n",
      "[[ 0  1  2  3]\n",
      " [ 4  5  6  7]\n",
      " [ 8  9 10 11]\n",
      " [12 13 14 15]]\n"
     ]
    }
   ],
   "source": [
    "data = np.arange(16)\n",
    "print(data)\n",
    "data = data.reshape((4,4))\n",
    "print(data)"
   ]
  },
  {
   "cell_type": "markdown",
   "id": "e026418a",
   "metadata": {},
   "source": [
    "---\n",
    "\n",
    "### Exercise 8:\n",
    "Find the data type of the elements in a NumPy array.\n",
    "\n",
    "```python\n",
    "# Exercise 8\n",
    "```"
   ]
  },
  {
   "cell_type": "code",
   "execution_count": 9,
   "id": "bbed93ab",
   "metadata": {},
   "outputs": [
    {
     "name": "stdout",
     "output_type": "stream",
     "text": [
      "int64\n"
     ]
    }
   ],
   "source": [
    "print(data.dtype)"
   ]
  },
  {
   "cell_type": "markdown",
   "id": "30e9d11f",
   "metadata": {},
   "source": [
    "---\n",
    "\n",
    "### Exercise 9:\n",
    "Create a NumPy array of integers from 1 to 100 and find all even numbers in the array.\n",
    "\n",
    "```python\n",
    "# Exercise 9\n",
    "```"
   ]
  },
  {
   "cell_type": "code",
   "execution_count": 10,
   "id": "d2e7ebeb",
   "metadata": {},
   "outputs": [
    {
     "name": "stdout",
     "output_type": "stream",
     "text": [
      "[  2   4   6   8  10  12  14  16  18  20  22  24  26  28  30  32  34  36\n",
      "  38  40  42  44  46  48  50  52  54  56  58  60  62  64  66  68  70  72\n",
      "  74  76  78  80  82  84  86  88  90  92  94  96  98 100]\n"
     ]
    }
   ],
   "source": [
    "data = np.arange(1,101)\n",
    "print(data[data%2==0])"
   ]
  },
  {
   "cell_type": "markdown",
   "id": "d34e0d5c",
   "metadata": {},
   "source": [
    "---\n",
    "\n",
    "### Exercise 10:\n",
    "Generate a 6x6 matrix of random integers between 10 and 50.\n",
    "\n",
    "```python\n",
    "# Exercise 10\n",
    "```"
   ]
  },
  {
   "cell_type": "code",
   "execution_count": 11,
   "id": "060c8075",
   "metadata": {},
   "outputs": [
    {
     "name": "stdout",
     "output_type": "stream",
     "text": [
      "[[31 37 28 13 42 35]\n",
      " [22 22 32 45 31 25]\n",
      " [38 19 10 40 42 10]\n",
      " [45 20 15 46 16 14]\n",
      " [28 11 19 42 24 38]\n",
      " [34 16 19 29 12 41]]\n"
     ]
    }
   ],
   "source": [
    "data = np.random.randint(10,50,(6,6))\n",
    "print(data)"
   ]
  },
  {
   "cell_type": "markdown",
   "id": "89623e9c",
   "metadata": {},
   "source": [
    "---\n",
    "\n",
    "### Exercise 11:\n",
    "Slice a 2D NumPy array to extract a submatrix.\n",
    "\n",
    "```python\n",
    "# Exercise 11\n",
    "```"
   ]
  },
  {
   "cell_type": "code",
   "execution_count": 12,
   "id": "87b87270",
   "metadata": {},
   "outputs": [
    {
     "name": "stdout",
     "output_type": "stream",
     "text": [
      "[[32 45 31]\n",
      " [10 40 42]]\n"
     ]
    }
   ],
   "source": [
    "print(data[1:3, 2:5])"
   ]
  },
  {
   "cell_type": "markdown",
   "id": "575825a8",
   "metadata": {},
   "source": [
    "---\n",
    "\n",
    "### Exercise 12:\n",
    "Calculate the sum of all elements in a NumPy array.\n",
    "\n",
    "```python\n",
    "# Exercise 12\n",
    "```"
   ]
  },
  {
   "cell_type": "code",
   "execution_count": 13,
   "id": "714a2cf1",
   "metadata": {},
   "outputs": [
    {
     "name": "stdout",
     "output_type": "stream",
     "text": [
      "991\n"
     ]
    }
   ],
   "source": [
    "print(np.sum(data))"
   ]
  },
  {
   "cell_type": "markdown",
   "id": "bbf16906",
   "metadata": {},
   "source": [
    "---\n",
    "\n",
    "### Exercise 13:\n",
    "Calculate the mean, median, and standard deviation of a NumPy array.\n",
    "\n",
    "```python\n",
    "# Exercise 13\n",
    "```"
   ]
  },
  {
   "cell_type": "code",
   "execution_count": 14,
   "id": "ce84a8a9",
   "metadata": {},
   "outputs": [
    {
     "name": "stdout",
     "output_type": "stream",
     "text": [
      "mean:  27.52777777777778 std: 11.39075188014653 median:  28.0\n"
     ]
    }
   ],
   "source": [
    "print(\"mean: \", np.mean(data), \"std:\", np.std(data), \"median: \", np.median(data))"
   ]
  },
  {
   "cell_type": "markdown",
   "id": "1539d367",
   "metadata": {},
   "source": [
    "---\n",
    "\n",
    "### Exercise 14:\n",
    "Find the maximum and minimum values in a NumPy array.\n",
    "\n",
    "```python\n",
    "# Exercise 14\n",
    "```"
   ]
  },
  {
   "cell_type": "code",
   "execution_count": 15,
   "id": "69f81659",
   "metadata": {},
   "outputs": [
    {
     "name": "stdout",
     "output_type": "stream",
     "text": [
      "max:  46 min:  10\n"
     ]
    }
   ],
   "source": [
    "print(\"max: \", np.max(data), \"min: \", np.min(data))"
   ]
  },
  {
   "cell_type": "markdown",
   "id": "aaaadb05",
   "metadata": {},
   "source": [
    "---\n",
    "\n",
    "### Exercise 15:\n",
    "Create a NumPy array of 20 random integers and find the index of the maximum value.\n",
    "\n",
    "```python\n",
    "# Exercise 15\n",
    "```"
   ]
  },
  {
   "cell_type": "code",
   "execution_count": 16,
   "id": "8d6eacbd",
   "metadata": {},
   "outputs": [
    {
     "name": "stdout",
     "output_type": "stream",
     "text": [
      "[13 17  1  8  3 15 10 10  3 11]\n",
      "1\n"
     ]
    }
   ],
   "source": [
    "data = np.random.randint(1,20,10)\n",
    "print(data)\n",
    "print(np.argmax(data))"
   ]
  },
  {
   "cell_type": "markdown",
   "id": "5c950a02",
   "metadata": {},
   "source": [
    "---\n",
    "\n",
    "### Exercise 16:\n",
    "Create a NumPy array and reverse its elements.\n",
    "\n",
    "```python\n",
    "# Exercise 16\n",
    "```"
   ]
  },
  {
   "cell_type": "code",
   "execution_count": 17,
   "id": "b83036da",
   "metadata": {},
   "outputs": [
    {
     "name": "stdout",
     "output_type": "stream",
     "text": [
      "[11  3 10 10 15  3  8  1 17 13]\n"
     ]
    }
   ],
   "source": [
    "data = data[::-1]\n",
    "print(data)"
   ]
  },
  {
   "cell_type": "markdown",
   "id": "6d4ec8c7",
   "metadata": {},
   "source": [
    "---\n",
    "\n",
    "### Exercise 17:\n",
    "Create a 3x3 matrix and multiply it element-wise by another 3x3 matrix.\n",
    "\n",
    "```python\n",
    "# Exercise 17\n",
    "```"
   ]
  },
  {
   "cell_type": "code",
   "execution_count": 18,
   "id": "de0aeebd",
   "metadata": {},
   "outputs": [
    {
     "name": "stdout",
     "output_type": "stream",
     "text": [
      "[[0.12516407 0.01443594 0.03490136]\n",
      " [0.43687373 0.12233213 0.15897566]\n",
      " [0.08392679 0.91283204 0.46422183]]\n"
     ]
    }
   ],
   "source": [
    "data1 = np.random.rand(3,3)\n",
    "data2 = np.random.rand(3,3)\n",
    "print(data1*data2)"
   ]
  },
  {
   "cell_type": "markdown",
   "id": "f1d414be",
   "metadata": {},
   "source": [
    "---\n",
    "\n",
    "### Exercise 18:\n",
    "Create a diagonal matrix from a given 1D array.\n",
    "\n",
    "```python\n",
    "# Exercise 18\n",
    "```"
   ]
  },
  {
   "cell_type": "code",
   "execution_count": 19,
   "id": "fd5ca934",
   "metadata": {},
   "outputs": [
    {
     "name": "stdout",
     "output_type": "stream",
     "text": [
      "[[1 0 0 0]\n",
      " [0 1 0 0]\n",
      " [0 0 1 0]\n",
      " [0 0 0 1]]\n"
     ]
    }
   ],
   "source": [
    "data = np.diag([1,1,1,1])\n",
    "print(data)"
   ]
  },
  {
   "cell_type": "markdown",
   "id": "f313d779",
   "metadata": {},
   "source": [
    "---\n",
    "\n",
    "### Exercise 19:\n",
    "Perform matrix multiplication on two 2D NumPy arrays.\n",
    "\n",
    "```python\n",
    "# Exercise 19\n",
    "```"
   ]
  },
  {
   "cell_type": "code",
   "execution_count": 20,
   "id": "206e0b5e",
   "metadata": {},
   "outputs": [
    {
     "data": {
      "text/plain": [
       "array([[0.12516407, 0.01443594, 0.03490136],\n",
       "       [0.43687373, 0.12233213, 0.15897566],\n",
       "       [0.08392679, 0.91283204, 0.46422183]])"
      ]
     },
     "execution_count": 20,
     "metadata": {},
     "output_type": "execute_result"
    }
   ],
   "source": [
    "data1*data2"
   ]
  },
  {
   "cell_type": "markdown",
   "id": "d862a421",
   "metadata": {},
   "source": [
    "---\n",
    "\n",
    "### Exercise 20:\n",
    "Flatten a 2D NumPy array into a 1D array.\n",
    "\n",
    "```python\n",
    "# Exercise 20\n",
    "```"
   ]
  },
  {
   "cell_type": "code",
   "execution_count": 21,
   "id": "737c239b",
   "metadata": {},
   "outputs": [
    {
     "data": {
      "text/plain": [
       "array([0.23276861, 0.91247536, 0.16295214, 0.44018177, 0.14274436,\n",
       "       0.32514658, 0.33745601, 0.98179066, 0.87005224])"
      ]
     },
     "execution_count": 21,
     "metadata": {},
     "output_type": "execute_result"
    }
   ],
   "source": [
    "data1.flatten()"
   ]
  },
  {
   "cell_type": "markdown",
   "id": "41e2e969",
   "metadata": {},
   "source": [
    "---\n",
    "\n",
    "### Exercise 21:\n",
    "Stack two NumPy arrays vertically.\n",
    "\n",
    "```python\n",
    "# Exercise 21\n",
    "```"
   ]
  },
  {
   "cell_type": "code",
   "execution_count": 22,
   "id": "69d10c59",
   "metadata": {},
   "outputs": [
    {
     "data": {
      "text/plain": [
       "array([[0.23276861, 0.91247536, 0.16295214],\n",
       "       [0.44018177, 0.14274436, 0.32514658],\n",
       "       [0.33745601, 0.98179066, 0.87005224],\n",
       "       [0.53771886, 0.01582063, 0.21418167],\n",
       "       [0.99248483, 0.85700149, 0.48893536],\n",
       "       [0.24870438, 0.92976239, 0.53355628]])"
      ]
     },
     "execution_count": 22,
     "metadata": {},
     "output_type": "execute_result"
    }
   ],
   "source": [
    "np.vstack((data1, data2))"
   ]
  },
  {
   "cell_type": "markdown",
   "id": "300cbedd",
   "metadata": {},
   "source": [
    "---\n",
    "\n",
    "### Exercise 22:\n",
    "Stack two NumPy arrays horizontally.\n",
    "\n",
    "```python\n",
    "# Exercise 22\n",
    "```"
   ]
  },
  {
   "cell_type": "code",
   "execution_count": 23,
   "id": "f3316859",
   "metadata": {},
   "outputs": [
    {
     "data": {
      "text/plain": [
       "array([[0.23276861, 0.91247536, 0.16295214, 0.53771886, 0.01582063,\n",
       "        0.21418167],\n",
       "       [0.44018177, 0.14274436, 0.32514658, 0.99248483, 0.85700149,\n",
       "        0.48893536],\n",
       "       [0.33745601, 0.98179066, 0.87005224, 0.24870438, 0.92976239,\n",
       "        0.53355628]])"
      ]
     },
     "execution_count": 23,
     "metadata": {},
     "output_type": "execute_result"
    }
   ],
   "source": [
    "np.hstack((data1,data2))"
   ]
  },
  {
   "cell_type": "markdown",
   "id": "84afe23c",
   "metadata": {},
   "source": [
    "---\n",
    "\n",
    "### Exercise 23:\n",
    "Split a NumPy array into multiple sub-arrays.\n",
    "\n",
    "```python\n",
    "# Exercise 23\n",
    "```"
   ]
  },
  {
   "cell_type": "code",
   "execution_count": 24,
   "id": "a831dfa7",
   "metadata": {},
   "outputs": [
    {
     "data": {
      "text/plain": [
       "[array([[0.23276861, 0.91247536, 0.16295214]]),\n",
       " array([[0.44018177, 0.14274436, 0.32514658]]),\n",
       " array([[0.33745601, 0.98179066, 0.87005224]])]"
      ]
     },
     "execution_count": 24,
     "metadata": {},
     "output_type": "execute_result"
    }
   ],
   "source": [
    "np.split(data1,3)"
   ]
  },
  {
   "cell_type": "markdown",
   "id": "5677c9d9",
   "metadata": {},
   "source": [
    "---\n",
    "\n",
    "### Exercise 24:\n",
    "Generate a random NumPy array and round each element to two decimal places.\n",
    "\n",
    "```python\n",
    "# Exercise 24\n",
    "```"
   ]
  },
  {
   "cell_type": "code",
   "execution_count": 25,
   "id": "85cad653",
   "metadata": {},
   "outputs": [
    {
     "data": {
      "text/plain": [
       "array([[1.07, 1.71, 1.21, 0.63, 0.16, 3.93],\n",
       "       [4.03, 3.94, 5.14, 5.85, 3.48, 5.57],\n",
       "       [5.82, 0.63, 1.01, 5.29, 3.91, 3.13],\n",
       "       [1.36, 5.03, 4.28, 1.99, 4.13, 1.17],\n",
       "       [1.66, 3.69, 1.17, 1.55, 3.13, 3.9 ],\n",
       "       [4.55, 4.87, 3.62, 5.56, 4.16, 4.33]])"
      ]
     },
     "execution_count": 25,
     "metadata": {},
     "output_type": "execute_result"
    }
   ],
   "source": [
    "np.round(6*np.random.rand(6,6),2)"
   ]
  },
  {
   "cell_type": "markdown",
   "id": "33a73c4e",
   "metadata": {},
   "source": [
    "---\n",
    "\n",
    "### Exercise 25:\n",
    "Find the unique elements of a NumPy array.\n",
    "\n",
    "```python\n",
    "# Exercise 25\n",
    "```"
   ]
  },
  {
   "cell_type": "code",
   "execution_count": 26,
   "id": "d6e9e2e6",
   "metadata": {},
   "outputs": [
    {
     "data": {
      "text/plain": [
       "array([0, 1])"
      ]
     },
     "execution_count": 26,
     "metadata": {},
     "output_type": "execute_result"
    }
   ],
   "source": [
    "np.unique(data)"
   ]
  },
  {
   "cell_type": "markdown",
   "id": "8cda5239",
   "metadata": {},
   "source": [
    "---\n",
    "\n",
    "### Exercise 26:\n",
    "Replace all elements in a NumPy array that are less than a specific value with that value.\n",
    "\n",
    "```python\n",
    "# Exercise 26\n",
    "```"
   ]
  },
  {
   "cell_type": "code",
   "execution_count": 27,
   "id": "9e5f7a6e",
   "metadata": {},
   "outputs": [
    {
     "name": "stdout",
     "output_type": "stream",
     "text": [
      "[[1 4 4 4]\n",
      " [4 1 4 4]\n",
      " [4 4 1 4]\n",
      " [4 4 4 1]]\n"
     ]
    }
   ],
   "source": [
    "data[data<=0.5] = 4\n",
    "print(data)"
   ]
  },
  {
   "cell_type": "markdown",
   "id": "3a42e742",
   "metadata": {},
   "source": [
    "---\n",
    "\n",
    "### Exercise 27:\n",
    "Find the cumulative sum of the elements in a NumPy array.\n",
    "\n",
    "```python\n",
    "# Exercise 27\n",
    "```"
   ]
  },
  {
   "cell_type": "code",
   "execution_count": 28,
   "id": "014ff46d",
   "metadata": {},
   "outputs": [
    {
     "name": "stdout",
     "output_type": "stream",
     "text": [
      "[[1 4 4 4]\n",
      " [4 1 4 4]\n",
      " [4 4 1 4]\n",
      " [4 4 4 1]]\n"
     ]
    },
    {
     "data": {
      "text/plain": [
       "array([ 1,  5,  9, 13, 17, 18, 22, 26, 30, 34, 35, 39, 43, 47, 51, 52])"
      ]
     },
     "execution_count": 28,
     "metadata": {},
     "output_type": "execute_result"
    }
   ],
   "source": [
    "print(data)\n",
    "np.cumsum(data)"
   ]
  },
  {
   "cell_type": "markdown",
   "id": "db5fc165",
   "metadata": {},
   "source": [
    "---\n",
    "\n",
    "### Exercise 28:\n",
    "Create a NumPy array and find the number of non-zero elements in it.\n",
    "\n",
    "```python\n",
    "# Exercise 28\n",
    "```"
   ]
  },
  {
   "cell_type": "code",
   "execution_count": 29,
   "id": "7d660c09",
   "metadata": {},
   "outputs": [
    {
     "data": {
      "text/plain": [
       "16"
      ]
     },
     "execution_count": 29,
     "metadata": {},
     "output_type": "execute_result"
    }
   ],
   "source": [
    "len(data[data!=0])"
   ]
  },
  {
   "cell_type": "markdown",
   "id": "ba427f11",
   "metadata": {},
   "source": [
    "---\n",
    "\n",
    "### Exercise 29:\n",
    "Create a NumPy array of random integers and sort it in ascending order.\n",
    "\n",
    "```python\n",
    "# Exercise 29\n",
    "```"
   ]
  },
  {
   "cell_type": "code",
   "execution_count": 30,
   "id": "1b58bb3d",
   "metadata": {},
   "outputs": [
    {
     "data": {
      "text/plain": [
       "array([[1, 4, 4, 4],\n",
       "       [1, 4, 4, 4],\n",
       "       [1, 4, 4, 4],\n",
       "       [1, 4, 4, 4]])"
      ]
     },
     "execution_count": 30,
     "metadata": {},
     "output_type": "execute_result"
    }
   ],
   "source": [
    "np.sort(data, True,)"
   ]
  },
  {
   "cell_type": "markdown",
   "id": "03d725c8",
   "metadata": {},
   "source": [
    "---\n",
    "\n",
    "### Exercise 30:\n",
    "Find the row-wise and column-wise sum of a 3x3 matrix.\n",
    "\n",
    "```python\n",
    "# Exercise 30\n",
    "```"
   ]
  },
  {
   "cell_type": "code",
   "execution_count": 31,
   "id": "cceb9907",
   "metadata": {},
   "outputs": [
    {
     "name": "stdout",
     "output_type": "stream",
     "text": [
      "[0.90194673 0.95220088 1.72483167] [0.96463454 1.50615363 1.10819111]\n"
     ]
    }
   ],
   "source": [
    "data = np.random.rand(3,3)\n",
    "print(data.sum(axis=1),data.sum(axis=0))"
   ]
  },
  {
   "cell_type": "markdown",
   "id": "83dc6fce",
   "metadata": {},
   "source": [
    "---\n",
    "\n",
    "### Exercise 31:\n",
    "Generate a 2D NumPy array with random values and normalize it (scale the values between 0 and 1).\n",
    "\n",
    "```python\n",
    "# Exercise 31\n",
    "```"
   ]
  },
  {
   "cell_type": "code",
   "execution_count": 32,
   "id": "7a61fc31",
   "metadata": {},
   "outputs": [
    {
     "name": "stdout",
     "output_type": "stream",
     "text": [
      "[[41 68 72 67 74 44]\n",
      " [33 26 37 41 38 72]\n",
      " [14 17 36 19 43 92]\n",
      " [81 65 49 26 87 93]\n",
      " [90 30 29 72 46 57]\n",
      " [46 12 29 43 57 67]]\n",
      "[[0.44086022 0.7311828  0.77419355 0.72043011 0.79569892 0.47311828]\n",
      " [0.35483871 0.27956989 0.39784946 0.44086022 0.40860215 0.77419355]\n",
      " [0.15053763 0.1827957  0.38709677 0.20430108 0.46236559 0.98924731]\n",
      " [0.87096774 0.69892473 0.52688172 0.27956989 0.93548387 1.        ]\n",
      " [0.96774194 0.32258065 0.31182796 0.77419355 0.49462366 0.61290323]\n",
      " [0.49462366 0.12903226 0.31182796 0.46236559 0.61290323 0.72043011]]\n"
     ]
    }
   ],
   "source": [
    "data =np.random.randint(10,100, (6,6))\n",
    "print(data)\n",
    "data = data/np.max(data)\n",
    "print(data)"
   ]
  },
  {
   "cell_type": "markdown",
   "id": "79cca75f",
   "metadata": {},
   "source": [
    "---\n",
    "\n",
    "### Exercise 32:\n",
    "Create two NumPy arrays and find the dot product.\n",
    "\n",
    "```python\n",
    "# Exercise 32\n",
    "```"
   ]
  },
  {
   "cell_type": "code",
   "execution_count": 33,
   "id": "50175431",
   "metadata": {},
   "outputs": [
    {
     "data": {
      "text/plain": [
       "array([[21319, 13210, 21834, 15130, 13101, 16746],\n",
       "       [23439, 14361, 21090, 14192, 12421, 14276],\n",
       "       [22051, 12990, 19485, 12674, 10351, 11897],\n",
       "       [16671, 10418, 18082, 10638, 10545, 14067],\n",
       "       [24520, 17118, 25094, 16135, 15318, 19075],\n",
       "       [16562,  9830, 20871, 15115, 10525, 15902]])"
      ]
     },
     "execution_count": 33,
     "metadata": {},
     "output_type": "execute_result"
    }
   ],
   "source": [
    "data1 = np.random.randint(10,100, (6,6))\n",
    "data2 = np.random.randint(10,100, (6,6))\n",
    "np.dot(data1,data2)"
   ]
  },
  {
   "cell_type": "markdown",
   "id": "2c7f2017",
   "metadata": {},
   "source": [
    "---\n",
    "\n",
    "### Exercise 33:\n",
    "Find the trace of a square NumPy matrix.\n",
    "\n",
    "```python\n",
    "# Exercise 33\n",
    "```"
   ]
  },
  {
   "cell_type": "code",
   "execution_count": 34,
   "id": "99872c55",
   "metadata": {},
   "outputs": [
    {
     "data": {
      "text/plain": [
       "390"
      ]
     },
     "execution_count": 34,
     "metadata": {},
     "output_type": "execute_result"
    }
   ],
   "source": [
    "np.trace(data1)"
   ]
  },
  {
   "cell_type": "markdown",
   "id": "8d9d4d30",
   "metadata": {},
   "source": [
    "---\n",
    "\n",
    "### Exercise 34:\n",
    "Create a 2D array and swap two rows.\n",
    "\n",
    "```python\n",
    "# Exercise 34\n",
    "```"
   ]
  },
  {
   "cell_type": "code",
   "execution_count": 35,
   "id": "13c92543",
   "metadata": {},
   "outputs": [
    {
     "name": "stdout",
     "output_type": "stream",
     "text": [
      "[[12 10 73 57 24 53]\n",
      " [55 98 63 59 76 46]\n",
      " [44 66 73 17 19 69]\n",
      " [96 42 33 17 89 14]\n",
      " [95 93 26 63 34 53]\n",
      " [72 11 80 46 29 67]]\n",
      "[[12 10 73 57 24 53]\n",
      " [44 66 73 17 19 69]\n",
      " [55 98 63 59 76 46]\n",
      " [96 42 33 17 89 14]\n",
      " [95 93 26 63 34 53]\n",
      " [72 11 80 46 29 67]]\n"
     ]
    }
   ],
   "source": [
    "data = np.random.randint(10,100, (6,6))\n",
    "print(data)\n",
    "a = data[1,].copy()\n",
    "data[1,] = data[2,]\n",
    "data[2,] = a\n",
    "print(data)"
   ]
  },
  {
   "cell_type": "markdown",
   "id": "672dec08",
   "metadata": {},
   "source": [
    "---\n",
    "\n",
    "### Exercise 35:\n",
    "Create a 1D NumPy array and convert it into a column vector.\n",
    "\n",
    "```python\n",
    "# Exercise 35\n",
    "```"
   ]
  },
  {
   "cell_type": "code",
   "execution_count": 36,
   "id": "6aa630fa",
   "metadata": {},
   "outputs": [
    {
     "name": "stdout",
     "output_type": "stream",
     "text": [
      "[0 1 2 3 4 5 6 7 8 9]\n",
      "(10,)\n"
     ]
    },
    {
     "data": {
      "text/plain": [
       "array([[0, 1, 2, 3, 4, 5, 6, 7, 8, 9]])"
      ]
     },
     "execution_count": 36,
     "metadata": {},
     "output_type": "execute_result"
    }
   ],
   "source": [
    "data = np.arange(10)\n",
    "print(data)\n",
    "print(data.shape)\n",
    "data.shape = (1,10)\n",
    "data"
   ]
  },
  {
   "cell_type": "markdown",
   "id": "2884db1a",
   "metadata": {},
   "source": [
    "---\n",
    "\n",
    "### Exercise 36:\n",
    "Find the determinant of a 3x3 matrix.\n",
    "\n",
    "```python\n",
    "# Exercise 36\n",
    "```"
   ]
  },
  {
   "cell_type": "code",
   "execution_count": 37,
   "id": "f9052935",
   "metadata": {},
   "outputs": [
    {
     "data": {
      "text/plain": [
       "-318.0"
      ]
     },
     "execution_count": 37,
     "metadata": {},
     "output_type": "execute_result"
    }
   ],
   "source": [
    "data = np.random.randint(10, 20, (3,3))\n",
    "np.linalg.det(data)"
   ]
  },
  {
   "cell_type": "markdown",
   "id": "d0e17007",
   "metadata": {},
   "source": [
    "---\n",
    "\n",
    "### Exercise 37:\n",
    "Find the eigenvalues and eigenvectors of a 2x2 matrix.\n",
    "\n",
    "```python\n",
    "# Exercise 37\n",
    "```"
   ]
  },
  {
   "cell_type": "code",
   "execution_count": 38,
   "id": "bda49a42",
   "metadata": {},
   "outputs": [
    {
     "name": "stdout",
     "output_type": "stream",
     "text": [
      "[133.12729212  30.87270788]\n",
      "(array([133.12729212,  30.87270788]), array([[ 0.76358229, -0.65314675],\n",
      "       [ 0.64571052,  0.75723135]]))\n"
     ]
    }
   ],
   "source": [
    "data = np.random.randint(10, 100, (2,2))\n",
    "print(np.linalg.eigvals(data))\n",
    "print(np.linalg.eig(data))"
   ]
  },
  {
   "cell_type": "markdown",
   "id": "34ea17f4",
   "metadata": {},
   "source": [
    "---\n",
    "\n",
    "### Exercise 38:\n",
    "Solve a system of linear equations using NumPy.\n",
    "\n",
    "```python\n",
    "# Exercise 38\n",
    "```"
   ]
  },
  {
   "cell_type": "code",
   "execution_count": 39,
   "id": "27b3d703",
   "metadata": {},
   "outputs": [
    {
     "data": {
      "text/plain": [
       "array([-0.440903  ,  0.16671404,  0.34276666])"
      ]
     },
     "execution_count": 39,
     "metadata": {},
     "output_type": "execute_result"
    }
   ],
   "source": [
    "data = np.random.randint(10, 100, (3,3))\n",
    "np.linalg.solve(data, np.arange(3))"
   ]
  },
  {
   "cell_type": "markdown",
   "id": "9f65f395",
   "metadata": {},
   "source": [
    "---\n",
    "\n",
    "### Exercise 39:\n",
    "Add Gaussian noise to a NumPy array.\n",
    "\n",
    "```python\n",
    "# Exercise 39\n",
    "```"
   ]
  },
  {
   "cell_type": "code",
   "execution_count": 40,
   "id": "39fb923a",
   "metadata": {},
   "outputs": [
    {
     "data": {
      "text/plain": [
       "array([-4.60468376e-01, -6.15198558e-01, -4.00436125e-01,  6.54230472e-01,\n",
       "        1.39628832e+00,  2.61585173e-01,  1.45361988e+00, -1.21533618e+00,\n",
       "        3.34016174e-01, -1.50636010e+00,  9.41362948e-01, -2.98246464e-01,\n",
       "        9.79834141e-01,  5.30569420e-01, -1.18039336e+00,  1.14830850e+00,\n",
       "       -1.05811712e+00, -7.71815758e-01,  1.01391121e+00, -1.19089102e+00,\n",
       "        8.17531039e-01,  3.36167996e-01, -9.38707139e-02,  4.15164193e-01,\n",
       "        9.14013118e-01, -3.10975407e-01, -3.28173658e-01, -3.79840927e-01,\n",
       "        1.50928296e-01, -2.83279157e-01, -4.34311980e-01, -2.62498205e-01,\n",
       "        7.01236241e-01,  9.21014135e-01,  1.68895346e-01,  1.05414706e+00,\n",
       "        7.75802280e-02, -2.49945054e-01, -6.51268897e-01, -9.34390810e-01,\n",
       "       -3.36465524e-01,  4.92283329e-01,  1.12404570e+00, -6.68417262e-01,\n",
       "        9.81741167e-01,  8.42592589e-01, -3.75487434e-01, -6.94813899e-01,\n",
       "        7.83534323e-01, -2.35578543e+00, -5.30810924e-01, -2.91985198e-01,\n",
       "       -6.86728921e-01, -4.53758207e-01, -3.56380196e-01, -1.22094645e+00,\n",
       "        1.17754604e+00,  1.47889200e+00,  2.71565466e-01, -3.57408696e-02,\n",
       "       -3.83507978e-02, -1.33987211e+00,  1.28267429e+00,  7.65722733e-01,\n",
       "        4.95137886e-01,  1.91244463e+00, -1.88758515e-01,  4.21936202e-01,\n",
       "        4.09540293e-01, -2.66864393e+00,  6.76270426e-02,  6.72285807e-01,\n",
       "        8.83875620e-01, -1.13469034e-03,  4.81064609e-02, -1.22554072e+00,\n",
       "       -2.02365945e-01, -1.32276618e+00, -1.53168521e-01,  6.41700827e-01,\n",
       "        1.30405413e+00,  4.50933738e-01, -1.01495519e-02, -1.70550298e+00,\n",
       "        6.73444370e-01, -9.92689272e-01,  1.76346051e-01, -2.10035305e-01,\n",
       "       -1.81101463e-01, -4.26772543e-01,  6.55555546e-01, -2.55570637e-01,\n",
       "        4.43702304e-01,  1.92557830e+00, -3.25904811e-01, -1.08551967e+00,\n",
       "       -3.66817977e-02, -4.39302143e-02, -2.62609648e-01, -2.00456672e-01])"
      ]
     },
     "execution_count": 40,
     "metadata": {},
     "output_type": "execute_result"
    }
   ],
   "source": [
    "data =  np.random.normal(0,1,100)\n",
    "data"
   ]
  },
  {
   "cell_type": "markdown",
   "id": "f96d8a7b",
   "metadata": {},
   "source": [
    "---\n",
    "\n",
    "### Exercise 40:\n",
    "Create a 4x4 matrix and extract the diagonal elements.\n",
    "\n",
    "```python\n",
    "# Exercise 40\n",
    "```"
   ]
  },
  {
   "cell_type": "code",
   "execution_count": 41,
   "id": "4fd052f9",
   "metadata": {},
   "outputs": [
    {
     "data": {
      "text/plain": [
       "array([5, 3, 3, 2])"
      ]
     },
     "execution_count": 41,
     "metadata": {},
     "output_type": "execute_result"
    }
   ],
   "source": [
    "data = np.random.randint(1,10,(4,4))\n",
    "np.diagonal(data)"
   ]
  },
  {
   "cell_type": "markdown",
   "id": "4f104e2d",
   "metadata": {},
   "source": [
    "---\n",
    "\n",
    "### Exercise 41:\n",
    "Generate a NumPy array of 100 random values and clip the values to a range between 10 and 50.\n",
    "\n",
    "```python\n",
    "# Exercise 41\n",
    "```"
   ]
  },
  {
   "cell_type": "code",
   "execution_count": 50,
   "id": "941d7b31",
   "metadata": {},
   "outputs": [
    {
     "data": {
      "text/plain": [
       "array([10., 10., 10., 10., 10., 10., 10., 10., 10., 10., 10., 10., 10.,\n",
       "       10., 10., 10., 10., 10., 10., 10., 10., 10., 10., 10., 10., 10.,\n",
       "       10., 10., 10., 10., 10., 10., 10., 10., 10., 10., 10., 10., 10.,\n",
       "       10., 10., 10., 10., 10., 10., 10., 10., 10., 10., 10., 10., 10.,\n",
       "       10., 10., 10., 10., 10., 10., 10., 10., 10., 10., 10., 10., 10.,\n",
       "       10., 10., 10., 10., 10., 10., 10., 10., 10., 10., 10., 10., 10.,\n",
       "       10., 10., 10., 10., 10., 10., 10., 10., 10., 10., 10., 10., 10.,\n",
       "       10., 10., 10., 10., 10., 10., 10., 10., 10.])"
      ]
     },
     "execution_count": 50,
     "metadata": {},
     "output_type": "execute_result"
    }
   ],
   "source": [
    "\n",
    "data = np.random.rand(100)\n",
    "np.clip(data, 10,50)"
   ]
  },
  {
   "cell_type": "markdown",
   "id": "4827cb84",
   "metadata": {},
   "source": [
    "---\n",
    "\n",
    "### Exercise 42:\n",
    "Create a 2D NumPy array and replace all negative values with zero.\n",
    "\n",
    "```python\n",
    "# Exercise 42\n",
    "```"
   ]
  },
  {
   "cell_type": "code",
   "execution_count": 51,
   "id": "509556b9",
   "metadata": {},
   "outputs": [
    {
     "data": {
      "text/plain": [
       "array([0, 0, 0, 0, 0, 0, 1, 2, 3, 4, 5, 6, 7, 8, 9])"
      ]
     },
     "execution_count": 51,
     "metadata": {},
     "output_type": "execute_result"
    }
   ],
   "source": [
    "data = np.arange(-5,10)\n",
    "data[data<0]=0\n",
    "data"
   ]
  },
  {
   "cell_type": "markdown",
   "id": "60e42a88",
   "metadata": {},
   "source": [
    "---\n",
    "\n",
    "### Exercise 43:\n",
    "Find the inner and outer products of two NumPy arrays.\n",
    "\n",
    "```python\n",
    "# Exercise 43\n",
    "```"
   ]
  },
  {
   "cell_type": "code",
   "execution_count": 55,
   "id": "83282319",
   "metadata": {},
   "outputs": [
    {
     "name": "stdout",
     "output_type": "stream",
     "text": [
      "[[14552 13349 26272 17274 15328 18607]\n",
      " [13391 13610 25234 15877 17170 17923]\n",
      " [12675 12506 22903 13118 17252 15844]\n",
      " [11288  7498 20424 13329 10926 13220]\n",
      " [15805 12283 29459 19244 15928 20100]\n",
      " [15543 12917 23222 14548 13983 14793]]\n",
      "[[4774 3080 4235 ... 2310 4928 5621]\n",
      " [1860 1200 1650 ...  900 1920 2190]\n",
      " [1550 1000 1375 ...  750 1600 1825]\n",
      " ...\n",
      " [6076 3920 5390 ... 2940 6272 7154]\n",
      " [ 930  600  825 ...  450  960 1095]\n",
      " [2542 1640 2255 ... 1230 2624 2993]]\n"
     ]
    }
   ],
   "source": [
    "print(np.inner(data1, data2))\n",
    "print(np.outer(data1, data2))"
   ]
  },
  {
   "cell_type": "markdown",
   "id": "858a6ed0",
   "metadata": {},
   "source": [
    "---\n",
    "\n",
    "### Exercise 44:\n",
    "Calculate the pairwise distances between points in a NumPy array.\n",
    "\n",
    "```python\n",
    "# Exercise 44\n",
    "```"
   ]
  },
  {
   "cell_type": "code",
   "execution_count": null,
   "id": "91bd9f13",
   "metadata": {},
   "outputs": [],
   "source": []
  },
  {
   "cell_type": "markdown",
   "id": "9a78d71c",
   "metadata": {},
   "source": [
    "---\n",
    "\n",
    "### Exercise 45:\n",
    "Create a structured NumPy array with fields for `name`, `age`, and `height`.\n",
    "\n",
    "```python\n",
    "# Exercise 45\n",
    "```\n",
    "\n",
    "---\n",
    "\n",
    "### Exercise 46:\n",
    "Create a 5x5 matrix of random integers and count the occurrences of each unique value.\n",
    "\n",
    "```python\n",
    "# Exercise 46\n",
    "```\n",
    "\n",
    "---\n",
    "\n",
    "### Exercise 47:\n",
    "Generate a random 3x3 NumPy array and subtract the mean of each row from the corresponding row.\n",
    "\n",
    "```python\n",
    "# Exercise 47\n",
    "```\n",
    "\n",
    "---\n",
    "\n",
    "### Exercise 48:\n",
    "Create a NumPy array of random integers and check if any of the values are greater than 50.\n",
    "\n",
    "```python\n",
    "# Exercise 48\n",
    "```\n",
    "\n",
    "---\n",
    "\n",
    "### Exercise 49:\n",
    "Calculate the moving average of a 1D NumPy array.\n",
    "\n",
    "```python\n",
    "# Exercise 49\n",
    "```\n",
    "\n",
    "---\n",
    "\n",
    "### Exercise 50:\n",
    "Find the Pearson correlation coefficient between two NumPy arrays.\n",
    "\n",
    "```python\n",
    "# Exercise 50\n",
    "```\n",
    "\n",
    "---\n",
    "\n",
    "### Exercise 51:\n",
    "Convert a NumPy array of radians to degrees.\n",
    "\n",
    "```python\n",
    "# Exercise 51\n",
    "```\n",
    "\n",
    "---\n",
    "\n",
    "### Exercise 52:\n",
    "Create a random NumPy array and compute its variance and standard deviation.\n",
    "\n",
    "```python\n",
    "# Exercise 52\n",
    "```\n",
    "\n",
    "---\n",
    "\n",
    "### Exercise 53:\n",
    "Create a 2D NumPy array and find the indices of the maximum values along each axis.\n",
    "\n",
    "```python\n",
    "# Exercise 53\n",
    "```\n",
    "\n",
    "---\n",
    "\n",
    "### Exercise 54:\n",
    "Compute the inverse of a 2x2 NumPy matrix.\n",
    "\n",
    "```python\n",
    "# Exercise 54\n",
    "```\n",
    "\n",
    "---\n",
    "\n",
    "### Exercise 55:\n",
    "Create a NumPy array of 10 random values and standardize it (mean 0, variance 1).\n",
    "\n",
    "```python\n",
    "# Exercise 55\n",
    "```\n",
    "\n",
    "---\n",
    "\n",
    "### Exercise 56:\n",
    "Perform element-wise addition and subtraction on two NumPy arrays.\n",
    "\n",
    "```python\n",
    "# Exercise 56\n",
    "```\n",
    "\n",
    "---\n",
    "\n",
    "### Exercise 57:\n",
    "Create a NumPy array of random values and find the maximum element's index.\n",
    "\n",
    "```python\n",
    "# Exercise 57\n",
    "```\n",
    "\n",
    "---\n",
    "\n",
    "### Exercise 58:\n",
    "Create a 3x3 NumPy array and rotate it by 90 degrees.\n",
    "\n",
    "```python\n",
    "# Exercise 58\n",
    "```\n",
    "\n",
    "---\n",
    "\n",
    "### Exercise 59:\n",
    "Compute the Frobenius norm of a matrix.\n",
    "\n",
    "```python\n",
    "# Exercise 59\n",
    "```\n",
    "\n",
    "---\n",
    "\n",
    "### Exercise 60:\n",
    "Create a 3D NumPy array and slice out a subarray.\n",
    "\n",
    "```python\n",
    "# Exercise 60\n",
    "```\n",
    "\n",
    "---"
   ]
  }
 ],
 "metadata": {
  "kernelspec": {
   "display_name": "Python 3",
   "language": "python",
   "name": "python3"
  },
  "language_info": {
   "codemirror_mode": {
    "name": "ipython",
    "version": 3
   },
   "file_extension": ".py",
   "mimetype": "text/x-python",
   "name": "python",
   "nbconvert_exporter": "python",
   "pygments_lexer": "ipython3",
   "version": "3.9.2"
  }
 },
 "nbformat": 4,
 "nbformat_minor": 5
}
