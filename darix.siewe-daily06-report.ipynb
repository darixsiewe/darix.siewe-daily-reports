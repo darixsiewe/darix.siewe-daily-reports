{
 "cells": [
  {
   "cell_type": "markdown",
   "id": "bfd71c88",
   "metadata": {},
   "source": [
    "## Summations and Products"
   ]
  },
  {
   "cell_type": "markdown",
   "id": "95130d23",
   "metadata": {},
   "source": [
    "### question 1\n",
    "\n",
    "Compute the following expressions for a natural number n chosen by the user:"
   ]
  },
  {
   "cell_type": "code",
   "execution_count": 15,
   "id": "b7af75a7",
   "metadata": {
    "scrolled": false
   },
   "outputs": [
    {
     "name": "stdout",
     "output_type": "stream",
     "text": [
      "Enter the value of n: 8\n",
      "The sum is :  28\n",
      "Enter the value of n:5\n",
      "The product is :  105\n"
     ]
    }
   ],
   "source": [
    "n = int(input(\"Enter the value of n: \"))\n",
    "result, i  = 0, 1\n",
    "while i <= n-1:\n",
    "    result += (i+3)\n",
    "    i = i + 2\n",
    "\n",
    "print(\"The sum is : \", result)\n",
    "\n",
    "\n",
    "n = int(input(\"Enter the value of n:\"))\n",
    "result,  i = 1, 0\n",
    "while i<=(n-1):\n",
    "    result*=(i+3)\n",
    "    i+=2\n",
    "\n",
    "print(\"The product is : \", result)"
   ]
  },
  {
   "cell_type": "markdown",
   "id": "1ca70184",
   "metadata": {},
   "source": [
    "### question 2\n",
    "\n",
    "Write a program that reads the number of the day of the week (from 0 to 6). If it is a\n",
    "working day, then the program will write the name of the corresponding day. Otherwise,\n",
    "it will write the word \"Weekend\"."
   ]
  },
  {
   "cell_type": "code",
   "execution_count": 16,
   "id": "fc420b08",
   "metadata": {
    "scrolled": true
   },
   "outputs": [
    {
     "name": "stdout",
     "output_type": "stream",
     "text": [
      "Please enter the number of the day: 7\n",
      "Weekend\n"
     ]
    }
   ],
   "source": [
    "\n",
    "number_of_days = input(\"Please enter the number of the day: \")\n",
    "if number_of_days == \"1\":\n",
    "    print(\"Monday\")\n",
    "elif number_of_days == \"2\":\n",
    "    print(\"Thursday\")\n",
    "elif number_of_days == \"3\":\n",
    "    print(\"Wenesday\")\n",
    "elif number_of_days == \"4\":\n",
    "    print(\"Tuesday\")\n",
    "elif number_of_days == \"5\":\n",
    "    print(\"Friday\")\n",
    "elif number_of_days == \"6\" or number_of_days==\"7\":\n",
    "    print(\"Weekend\")\n",
    "else:\n",
    "    print(\"You provided a wrong input\")\n"
   ]
  },
  {
   "cell_type": "markdown",
   "id": "192fae53",
   "metadata": {},
   "source": [
    "### question 3\n",
    "\n",
    "Make a program that, given a month number (from 0 to 11), indicates how many days it\n",
    "has (28, 30 or 31), ignoring the leap years."
   ]
  },
  {
   "cell_type": "code",
   "execution_count": 17,
   "id": "67d822d3",
   "metadata": {
    "scrolled": true
   },
   "outputs": [
    {
     "name": "stdout",
     "output_type": "stream",
     "text": [
      "Enter the number of month from 0 to 11: 8\n",
      "The number of month in 8 is 30\n"
     ]
    }
   ],
   "source": [
    "\n",
    "number_of_month = int(input(\"Enter the number of month from 0 to 11: \"))\n",
    "if number_of_month== 0 or number_of_month==2 or number_of_month==4 or number_of_month==6 or number_of_month==7 or number_of_month==9 or number_of_month==11:\n",
    "    print(f\"the numner of month in {number_of_month} is 31\")\n",
    "elif number_of_month==3 or number_of_month==5 or number_of_month==8 or number_of_month==10:\n",
    "    print(f\"The number of month in {number_of_month} is 30\")\n",
    "elif number_of_month==1:\n",
    "    print(f\"The bnumber of month in {number_of_month} is 28\")\n",
    "else:\n",
    "    print(\"You provided a wrong input\")\n",
    "\n"
   ]
  },
  {
   "cell_type": "markdown",
   "id": "29cb1989",
   "metadata": {},
   "source": [
    "### question 4\n",
    "\n",
    "Write two versions of python code that displays your name 3 times. One version with a\n",
    "\"for loop\" and another version with a \"while loop\"."
   ]
  },
  {
   "cell_type": "code",
   "execution_count": 18,
   "id": "2a816c61",
   "metadata": {
    "scrolled": false
   },
   "outputs": [
    {
     "name": "stdout",
     "output_type": "stream",
     "text": [
      "Frist with for loop\n",
      "Darix SAMANI SIEWE\n",
      "Darix SAMANI SIEWE\n",
      "Darix SAMANI SIEWE\n",
      "another version with while loop\n",
      "Darix SAMANI SIEWE\n",
      "Darix SAMANI SIEWE\n",
      "Darix SAMANI SIEWE\n"
     ]
    }
   ],
   "source": [
    "\n",
    "name = \"Darix SAMANI SIEWE\"\n",
    "## first with for loop\n",
    "print(\"Frist with for loop\")\n",
    "for _ in range(3):\n",
    "    print(name)\n",
    "print(\"another version with while loop\")\n",
    "i = 0\n",
    "while i!=3:\n",
    "    print(name)\n",
    "    i+=1\n",
    "    \n"
   ]
  },
  {
   "cell_type": "markdown",
   "id": "8b85fa54",
   "metadata": {},
   "source": [
    "### question 5\n",
    "\n",
    "Given two numbers $a_0$ and $a_1$, the Fibonacci sequence they generate is constructed from\n",
    "the recursion formula $a_{n+1} = a_n + a_{n−1}$. Calculate the first 15 terms of a Fibonacci\n",
    "sequence, asking the user the initial values."
   ]
  },
  {
   "cell_type": "code",
   "execution_count": 22,
   "id": "4fa3b45e",
   "metadata": {},
   "outputs": [
    {
     "name": "stdout",
     "output_type": "stream",
     "text": [
      "Enter the vlaue of a0: 1\n",
      "Enter the value of a1: 1\n",
      "the 15 sequence of fibonnaci is : [2, 3, 5, 8, 13, 21, 34, 55, 89, 144, 233, 377, 610, 987, 1597]\n"
     ]
    }
   ],
   "source": [
    "f = 0\n",
    "result = []\n",
    "a0 = int(input(\"Enter the vlaue of a0: \"))\n",
    "a1 = int(input(\"Enter the value of a1: \"))\n",
    "for _ in range(15):\n",
    "    f = a0 + a1\n",
    "    result.append(f)\n",
    "    a0, a1 = a1, f\n",
    "print(f\"the 15 sequence of fibonnaci is : {result}\")"
   ]
  },
  {
   "cell_type": "markdown",
   "id": "49c710c4",
   "metadata": {},
   "source": [
    "### question 6\n",
    "\n",
    "Compute the first 30 terms of the sequence defined by $2x_{n+2} − x_{n+1} − 6x_n = 0$ sequence,\n",
    "given any two initial values $x_0$ and $x_1$"
   ]
  },
  {
   "cell_type": "code",
   "execution_count": 23,
   "id": "af13dd5d",
   "metadata": {
    "scrolled": false
   },
   "outputs": [
    {
     "name": "stdout",
     "output_type": "stream",
     "text": [
      "Enter the vlaue of a0: 1\n",
      "Enter the value of a1: 1\n",
      "the 30 sequence of defined by 2Xn+2 - Xn+1 - 6Xn=0  is : [3.5, 4.75, 12.875, 20.6875, 48.96875, 86.546875, 190.1796875, 354.73046875, 747.904296875, 1438.1435546875, 2962.78466796875, 5795.822998046875, 11786.265502929688, 23280.60174560547, 46999.0973815918, 93341.3539276123, 187667.96910858154, 373858.0463371277, 749932.9304943085, 1496540.6042585373, 2998069.093612194, 5988656.359581709, 11988535.460627437, 23960236.809058845, 47945724.78641173, 95853572.8203824, 191763960.7694264, 383442698.84586036, 767013231.7312095, 1533834712.4031858]\n"
     ]
    }
   ],
   "source": [
    "xn = 0\n",
    "result = []\n",
    "a0 = int(input(\"Enter the vlaue of a0: \"))\n",
    "a1 = int(input(\"Enter the value of a1: \"))\n",
    "for _ in range(30):\n",
    "    f = (6*a0 + a1) / 2\n",
    "    result.append(f)\n",
    "    a0, a1 = a1, f\n",
    "print(f\"the 30 sequence of defined by 2Xn+2 - Xn+1 - 6Xn=0  is : {result}\")"
   ]
  },
  {
   "cell_type": "markdown",
   "id": "cc318727",
   "metadata": {},
   "source": [
    "### question 7\n",
    "a) Write python code to determine whether or not a year is a leap year. Be sure you\n",
    "know what a leap year is."
   ]
  },
  {
   "cell_type": "code",
   "execution_count": 29,
   "id": "ba6bd081",
   "metadata": {
    "scrolled": true
   },
   "outputs": [
    {
     "name": "stdout",
     "output_type": "stream",
     "text": [
      "Enter the year: 2001\n",
      "the year 2001 is not a leap year\n"
     ]
    }
   ],
   "source": [
    "year = int(input(\"Enter the year: \"))\n",
    "if (year % 4 == 0):\n",
    "    if (year % 100 != 0):\n",
    "        print(f\"the year {year} is a leap year\")\n",
    "    else:\n",
    "        if year%400==0:\n",
    "            print(f\"the year {year} is a leap year\")\n",
    "        else:\n",
    "            print(f\"the year {year} is not a leap year\")\n",
    "else:\n",
    "    if year%400==0:\n",
    "        print(f\"the year {year} is a leap year\")\n",
    "    else:\n",
    "        print(f\"the year {year} is not a leap year\")\n",
    "    \n"
   ]
  },
  {
   "cell_type": "markdown",
   "id": "3e0d810d",
   "metadata": {},
   "source": [
    "b) Write the code using only logical operators, i.e. no conditional branching."
   ]
  },
  {
   "cell_type": "code",
   "execution_count": null,
   "id": "5b5ccede",
   "metadata": {},
   "outputs": [],
   "source": [
    "year = int(input(\"Enter the year: \"))\n",
    "if (year % 4 == 0 and year % 100 != 0) or (year % 400 == 0):\n",
    "    print(f\"the year {year} is a leap year\")\n",
    "else:\n",
    "    print(f\"The year {year} is not a leap year\")\n"
   ]
  },
  {
   "cell_type": "markdown",
   "id": "5a2359a0",
   "metadata": {},
   "source": [
    "### question 8\n",
    "\n",
    "a) Write python code that computes the sum of the square of the first n natural numbers.\n",
    "One version with a \"for loop\" and another version with a \"while loop\"."
   ]
  },
  {
   "cell_type": "code",
   "execution_count": 1,
   "id": "e4098439",
   "metadata": {
    "scrolled": false
   },
   "outputs": [
    {
     "name": "stdout",
     "output_type": "stream",
     "text": [
      "Enter the value of n: 5\n",
      "Using for loop\n",
      "The value of sum is : 55\n",
      "using while loop\n",
      "The value of sum is : 55\n"
     ]
    }
   ],
   "source": [
    "n = int(input(\"Enter the value of n: \"))\n",
    "print(\"Using for loop\")\n",
    "s= 0\n",
    "for i in range(1, n+1):\n",
    "    s+=i**2\n",
    "print(f\"The value of sum is : {s}\")\n",
    "print(\"using while loop\")\n",
    "s,i=0,1\n",
    "while i <= n:\n",
    "    s+=i**2\n",
    "    i+=1\n",
    "print(f\"The value of sum is : {s}\")"
   ]
  },
  {
   "cell_type": "markdown",
   "id": "5943fc3d",
   "metadata": {},
   "source": [
    " b) Write python code that prints, for a natural number M, the smallest natural number\n",
    "n such that $1+2 + 2^2 + \\ldots +n^2 ≥ M$. One version with a \"for loop\" and another version with a \"while loop\"."
   ]
  },
  {
   "cell_type": "code",
   "execution_count": 1,
   "id": "e4644cf0",
   "metadata": {},
   "outputs": [
    {
     "name": "stdout",
     "output_type": "stream",
     "text": [
      "Enter the value of M: 45\n",
      "the value of n using for loop is: 5\n"
     ]
    }
   ],
   "source": [
    "M = int(input(\"Enter the value of M: \"))\n",
    "s, n=0,0\n",
    "for i, _ in enumerate(iter(bool, True), start=1):\n",
    "    s+=i**2\n",
    "    if s>=M:\n",
    "        n=i\n",
    "        break\n",
    "print(f\"the value of n using for loop is: {n}\")\n"
   ]
  },
  {
   "cell_type": "code",
   "execution_count": 6,
   "id": "9a56ec69",
   "metadata": {
    "scrolled": true
   },
   "outputs": [
    {
     "name": "stdout",
     "output_type": "stream",
     "text": [
      "Enter the value of M: 45\n",
      "the value of n using while loop is: 5\n"
     ]
    }
   ],
   "source": [
    "M = int(input(\"Enter the value of M: \"))\n",
    "s, n, i =0,0, 1\n",
    "while s<M:\n",
    "    s+=i**2\n",
    "    n=i\n",
    "    i+=1\n",
    "print(f\"the value of n using while loop is: {n}\")"
   ]
  },
  {
   "cell_type": "markdown",
   "id": "9bab2281",
   "metadata": {},
   "source": [
    "## question 9\n",
    "\n",
    "a) Write python code that prints all the divisors of a given natural number."
   ]
  },
  {
   "cell_type": "code",
   "execution_count": 8,
   "id": "73d289d2",
   "metadata": {
    "scrolled": false
   },
   "outputs": [
    {
     "name": "stdout",
     "output_type": "stream",
     "text": [
      "Enter the value of n: 12\n",
      "1\n",
      "2\n",
      "3\n",
      "4\n"
     ]
    }
   ],
   "source": [
    "n = int(input(\"Enter the value of n: \"))\n",
    "for i in range(1, n//2):\n",
    "    if n%i==0:\n",
    "        print(i)\n"
   ]
  },
  {
   "cell_type": "markdown",
   "id": "387fa3a9",
   "metadata": {},
   "source": [
    " b) Read an integer number input by the user and calculate its prime factors. This will\n",
    "just be some of its divisors."
   ]
  },
  {
   "cell_type": "code",
   "execution_count": 25,
   "id": "f5d84892",
   "metadata": {
    "scrolled": false
   },
   "outputs": [
    {
     "name": "stdout",
     "output_type": "stream",
     "text": [
      "Enter the value of n: 12\n",
      "2\n",
      "3\n"
     ]
    }
   ],
   "source": [
    "n = int(input(\"Enter the value of n: \"))\n",
    "for i in range(1, n//2):\n",
    "    if n%i==0 and len([j for j in range(1, i//2+1) if i%j==0])==1:\n",
    "        print(i)\n"
   ]
  },
  {
   "cell_type": "markdown",
   "id": "ff5004e4",
   "metadata": {},
   "source": [
    "### question 10\n",
    "\n",
    "Read an integer number between n 0 and 9 and print its multiplication table up to N\n",
    "where N is another another natural number read by the program."
   ]
  },
  {
   "cell_type": "code",
   "execution_count": 27,
   "id": "ed81ea92",
   "metadata": {
    "scrolled": false
   },
   "outputs": [
    {
     "name": "stdout",
     "output_type": "stream",
     "text": [
      "number between n 0 and 9: 4\n",
      "Enter a another naturel number from 0 to 9:9\n",
      "4 X 1 = 4\n",
      "4 X 2 = 8\n",
      "4 X 3 = 12\n",
      "4 X 4 = 16\n",
      "4 X 5 = 20\n",
      "4 X 6 = 24\n",
      "4 X 7 = 28\n",
      "4 X 8 = 32\n",
      "4 X 9 = 36\n"
     ]
    }
   ],
   "source": [
    "n = int(input(\"number between n 0 and 9: \"))\n",
    "N = int(input(\"Enter a another naturel number from 0 to 9:\"))\n",
    "\n",
    "for i in range(1, N+1):\n",
    "    print(f\"{n} X {i} = {i*n}\")\n"
   ]
  },
  {
   "cell_type": "markdown",
   "id": "8effa076",
   "metadata": {},
   "source": [
    "### question 11\n",
    "\n",
    "Write a program that prints all the numbers between 0 and 40 that are multiples of 3, 7\n",
    "or 11."
   ]
  },
  {
   "cell_type": "code",
   "execution_count": 28,
   "id": "831d983f",
   "metadata": {
    "scrolled": false
   },
   "outputs": [
    {
     "name": "stdout",
     "output_type": "stream",
     "text": [
      "0\n",
      "3\n",
      "6\n",
      "7\n",
      "9\n",
      "12\n",
      "14\n",
      "15\n",
      "18\n",
      "21\n",
      "24\n",
      "27\n",
      "28\n",
      "30\n",
      "33\n",
      "35\n",
      "36\n",
      "39\n"
     ]
    }
   ],
   "source": [
    "for i in range(0, 41):\n",
    "    if i%3 ==0 or i%7==0 or i%9 == 0:\n",
    "        print(i)\n"
   ]
  },
  {
   "cell_type": "markdown",
   "id": "5dd08139",
   "metadata": {},
   "source": [
    "### question 12\n",
    "\n",
    "\n",
    "Write python code that prints the floor of a float x. Recall that the floor of a float x is the\n",
    "largest integer value less than or equal to x, i.e. if E[x] is the floor of x, then it satisfies, E[x] = 1 + E[x − 1]\n"
   ]
  },
  {
   "cell_type": "code",
   "execution_count": 2,
   "id": "f6fdc2c6",
   "metadata": {
    "scrolled": true
   },
   "outputs": [
    {
     "name": "stdout",
     "output_type": "stream",
     "text": [
      "Enter the value of floating point number: 14.1\n",
      "the floor of 14.1 is 14\n"
     ]
    }
   ],
   "source": [
    "x = float(input(\"Enter the value of floating point number: \"))\n",
    "n = max(range(int(x)-1, int(x) +1)) if x>=0 else min(range(int(x)-1, int(x) +1))\n",
    "print(f\"the floor of {x} is {n}\")"
   ]
  },
  {
   "cell_type": "markdown",
   "id": "2afaac70",
   "metadata": {},
   "source": [
    "### question 13\n",
    "\n",
    "Given a point in the plane by its Cartesian coordinates, determine in which quadrant it is\n",
    "(1st, 2nd, 3rd, 4th), if it lies on an axis, or if it is the origin. Do this for several points in\n",
    "the same execution of the program until the user quits."
   ]
  },
  {
   "cell_type": "code",
   "execution_count": 4,
   "id": "1ab19e69",
   "metadata": {
    "scrolled": true
   },
   "outputs": [
    {
     "name": "stdout",
     "output_type": "stream",
     "text": [
      "Enter the coordinate of x1: 4\n",
      "Enter the coordinate of x2: 5\n",
      "1st quadrant\n",
      "Do you want to continuos 1 for yes and 0 for otherwise: 1\n",
      "Enter the coordinate of x1: -4\n",
      "Enter the coordinate of x2: 5\n",
      "2nd quadrant\n",
      "Do you want to continuos 1 for yes and 0 for otherwise: 1\n",
      "Enter the coordinate of x1: 5\n",
      "Enter the coordinate of x2: -4\n",
      "4th quadrant\n",
      "Do you want to continuos 1 for yes and 0 for otherwise: 1\n",
      "Enter the coordinate of x1: -4\n",
      "Enter the coordinate of x2: 0\n",
      "axe y\n",
      "Do you want to continuos 1 for yes and 0 for otherwise: 1\n",
      "Enter the coordinate of x1: 0\n",
      "Enter the coordinate of x2: 4\n",
      "axe y\n",
      "Do you want to continuos 1 for yes and 0 for otherwise: 0\n"
     ]
    }
   ],
   "source": [
    "conti = \"1\"\n",
    "\n",
    "while conti == \"1\":\n",
    "    x = int(input(\"Enter the coordinate of x1: \"))\n",
    "    y = int(input(\"Enter the coordinate of x2: \"))\n",
    "    if x>0 and y>0:\n",
    "        print(\"1st quadrant\")\n",
    "    elif x<0 and y>0:\n",
    "        print(\"2nd quadrant\")\n",
    "    elif x<0 and y<0:\n",
    "        print(\"3rd quadrant\")\n",
    "    elif x>0 and y<0:\n",
    "        print(\"4th quadrant\")\n",
    "    elif x==0 and y!=0:\n",
    "        print(\"axe y\")\n",
    "    elif x!=0 and y==0:\n",
    "        print(\"axe y\")\n",
    "    else:\n",
    "        print(\"Origin\")\n",
    "    conti = input(\"Do you want to continuos 1 for yes and 0 for otherwise: \")"
   ]
  },
  {
   "cell_type": "markdown",
   "id": "b5c22afd",
   "metadata": {},
   "source": [
    "### question 14\n",
    "\n",
    "Ask for an integer number between 0 and 9, denoted x. Once the user has entered a correct\n",
    "number (that is one in the range [0..10)) the program asks for a second integer number\n",
    "between 0 and 255, denoted max. The program continues asking for the number until it\n",
    "is correct (that it is in the range [0..256)). When this is done, show all multiples of x that\n",
    "are between 0 and max. Then, ask the user whether he/she wants to continue; if in the\n",
    "affirmative, ask for another couple of numbers, otherwise finish."
   ]
  },
  {
   "cell_type": "code",
   "execution_count": 43,
   "id": "f55f2298",
   "metadata": {},
   "outputs": [
    {
     "name": "stdout",
     "output_type": "stream",
     "text": [
      "Enter the number between 0 and 9: 8\n",
      "enter the number betweeen 0 and 255: 200\n",
      "All mulriples of 8 between 0 and 200 is: \n",
      "8\n",
      "16\n",
      "24\n",
      "32\n",
      "40\n",
      "48\n",
      "56\n",
      "64\n",
      "72\n",
      "80\n",
      "88\n",
      "96\n",
      "104\n",
      "112\n",
      "120\n",
      "128\n",
      "136\n",
      "144\n",
      "152\n",
      "160\n",
      "168\n",
      "176\n",
      "184\n",
      "192\n",
      "200\n",
      "Do you want to continuos 1 for yes and 0 for otherwise1\n",
      "Enter the number between 0 and 9: 7\n",
      "enter the number betweeen 0 and 255: 455\n",
      "enter the number betweeen 0 and 255: 155\n",
      "All mulriples of 7 between 0 and 155 is: \n",
      "7\n",
      "14\n",
      "21\n",
      "28\n",
      "35\n",
      "42\n",
      "49\n",
      "56\n",
      "63\n",
      "70\n",
      "77\n",
      "84\n",
      "91\n",
      "98\n",
      "105\n",
      "112\n",
      "119\n",
      "126\n",
      "133\n",
      "140\n",
      "147\n",
      "154\n",
      "Do you want to continuos 1 for yes and 0 for otherwise0\n"
     ]
    }
   ],
   "source": [
    "\n",
    "conti = \"1\"\n",
    "\n",
    "while conti == \"1\":    \n",
    "    x = int(input(\"Enter the number between 0 and 9: \"))\n",
    "    while n<0 or n>9:\n",
    "        x = int(input(\"Enter the number between 0 and 9: \"))\n",
    "    m = int(input(\"enter the number betweeen 0 and 255: \"))\n",
    "    while m<0 or m>255:\n",
    "        m = int(input(\"enter the number betweeen 0 and 255: \"))\n",
    "    print(f\"All mulriples of {x} between 0 and {m} is: \")\n",
    "    for i in range(1, m+1):\n",
    "        if i%x==0:\n",
    "            print(i)\n",
    "    conti = input(\"Do you want to continuos 1 for yes and 0 for otherwise: \")\n"
   ]
  }
 ],
 "metadata": {
  "kernelspec": {
   "display_name": "Python 3",
   "language": "python",
   "name": "python3"
  },
  "language_info": {
   "codemirror_mode": {
    "name": "ipython",
    "version": 3
   },
   "file_extension": ".py",
   "mimetype": "text/x-python",
   "name": "python",
   "nbconvert_exporter": "python",
   "pygments_lexer": "ipython3",
   "version": "3.9.2"
  }
 },
 "nbformat": 4,
 "nbformat_minor": 5
}
